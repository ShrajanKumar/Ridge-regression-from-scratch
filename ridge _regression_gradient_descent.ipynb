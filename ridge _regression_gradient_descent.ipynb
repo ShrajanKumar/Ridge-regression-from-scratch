{
 "cells": [
  {
   "cell_type": "code",
   "execution_count": 1,
   "id": "7da0baff",
   "metadata": {},
   "outputs": [],
   "source": [
    "#Lets build our own gradient ridge regressor\n",
    "\n",
    "#import require libraries\n",
    "\n",
    "import numpy as np"
   ]
  },
  {
   "cell_type": "code",
   "execution_count": 6,
   "id": "d71537ec",
   "metadata": {},
   "outputs": [],
   "source": [
    "class gradientridge:\n",
    "    def __init__(self,epoch=500,learning_rate=0.01,alpha=0.1):\n",
    "        self.epoch=epoch\n",
    "        self.learning_rate=learning_rate\n",
    "        self.alpha=alpha\n",
    "        self.intercept_=None\n",
    "        self.coef_=None\n",
    "    \n",
    "    def fit(self,x_train,y_train):\n",
    "        x=np.insert(x_train,0,1)\n",
    "        self.coef_=np.ones(x_train.shape[1])  #coeficients\n",
    "        self.intercept=0                      #intercept\n",
    "        thetha=np.insert(self.coef_,0,self.intercept_) #vector of paramters\n",
    "        \n",
    "        for i in range(self.epoch):\n",
    "            gradient=x.T.dot(x).dot(thetha)-np.dot(x.T,y_train)+self.alpha*thetha\n",
    "            thetha=theta-self.learning_rate*gradient\n",
    "        self.coef_=thetha[1:]\n",
    "        self.intercept_=thetha[0]\n",
    "    \n",
    "    def predict(self,x_test):\n",
    "        return self.intercept_+x_test.dot(self.coef_)\n",
    "        \n",
    "        \n",
    "        "
   ]
  },
  {
   "cell_type": "code",
   "execution_count": 60,
   "id": "6920dc5b",
   "metadata": {},
   "outputs": [],
   "source": [
    "class MeraRidgeGD:\n",
    "    \n",
    "    def __init__(self,epochs,learning_rate,alpha):\n",
    "        \n",
    "        self.learning_rate = learning_rate\n",
    "        self.epochs = epochs\n",
    "        self.alpha = alpha\n",
    "        self.coef_ = None\n",
    "        self.intercept_ = None\n",
    "        \n",
    "    def fit(self,X_train,y_train):\n",
    "        \n",
    "        self.coef_ = np.ones(X_train.shape[1])\n",
    "        self.intercept_ = 0\n",
    "        thetha = np.insert(self.coef_,0,self.intercept_)\n",
    "        \n",
    "        X_train = np.insert(X_train,0,1,axis=1)\n",
    "        \n",
    "        for i in range(self.epochs):\n",
    "            thetha_der = np.dot(X_train.T,X_train).dot(thetha) - np.dot(X_train.T,y_train) + self.alpha*thetha\n",
    "            thetha = thetha - self.learning_rate*thetha_der\n",
    "        \n",
    "        self.coef_ = thetha[1:]\n",
    "        self.intercept_ = thetha[0]\n",
    "    \n",
    "    def predict(self,X_test):\n",
    "        \n",
    "        return np.dot(X_test,self.coef_) + self.intercept_"
   ]
  },
  {
   "cell_type": "code",
   "execution_count": 3,
   "id": "3ef7ea14",
   "metadata": {},
   "outputs": [
    {
     "name": "stderr",
     "output_type": "stream",
     "text": [
      "C:\\Users\\shraj\\anaconda3\\lib\\site-packages\\scipy\\__init__.py:146: UserWarning: A NumPy version >=1.16.5 and <1.23.0 is required for this version of SciPy (detected version 1.24.3\n",
      "  warnings.warn(f\"A NumPy version >={np_minversion} and <{np_maxversion}\"\n"
     ]
    }
   ],
   "source": [
    "#lets try our model\n",
    "from sklearn.model_selection import train_test_split\n",
    "from sklearn.datasets import load_diabetes\n",
    "x,y=load_diabetes(return_X_y=True)"
   ]
  },
  {
   "cell_type": "code",
   "execution_count": 4,
   "id": "fd47a33d",
   "metadata": {},
   "outputs": [],
   "source": [
    "x_train,x_test,y_train,y_tets=train_test_split(x,y,test_size=0.2,random_state=42)"
   ]
  },
  {
   "cell_type": "code",
   "execution_count": 7,
   "id": "d5f33837",
   "metadata": {},
   "outputs": [
    {
     "ename": "AttributeError",
     "evalue": "'numpy.float64' object has no attribute 'dot'",
     "output_type": "error",
     "traceback": [
      "\u001b[1;31m---------------------------------------------------------------------------\u001b[0m",
      "\u001b[1;31mAttributeError\u001b[0m                            Traceback (most recent call last)",
      "Cell \u001b[1;32mIn[7], line 4\u001b[0m\n\u001b[0;32m      1\u001b[0m \u001b[38;5;66;03m#lets fit pur model\u001b[39;00m\n\u001b[0;32m      3\u001b[0m grdnt\u001b[38;5;241m=\u001b[39mgradientridge(epoch\u001b[38;5;241m=\u001b[39m\u001b[38;5;241m500\u001b[39m,learning_rate\u001b[38;5;241m=\u001b[39m\u001b[38;5;241m0.005\u001b[39m,alpha\u001b[38;5;241m=\u001b[39m\u001b[38;5;241m0.01\u001b[39m)\n\u001b[1;32m----> 4\u001b[0m \u001b[43mgrdnt\u001b[49m\u001b[38;5;241;43m.\u001b[39;49m\u001b[43mfit\u001b[49m\u001b[43m(\u001b[49m\u001b[43mx_train\u001b[49m\u001b[43m,\u001b[49m\u001b[43my_train\u001b[49m\u001b[43m)\u001b[49m\n\u001b[0;32m      5\u001b[0m grdnt\u001b[38;5;241m.\u001b[39mcoef_\n",
      "Cell \u001b[1;32mIn[6], line 16\u001b[0m, in \u001b[0;36mgradientridge.fit\u001b[1;34m(self, x_train, y_train)\u001b[0m\n\u001b[0;32m     13\u001b[0m thetha\u001b[38;5;241m=\u001b[39mnp\u001b[38;5;241m.\u001b[39minsert(\u001b[38;5;28mself\u001b[39m\u001b[38;5;241m.\u001b[39mcoef_,\u001b[38;5;241m0\u001b[39m,\u001b[38;5;28mself\u001b[39m\u001b[38;5;241m.\u001b[39mintercept_) \u001b[38;5;66;03m#vector of paramters\u001b[39;00m\n\u001b[0;32m     15\u001b[0m \u001b[38;5;28;01mfor\u001b[39;00m i \u001b[38;5;129;01min\u001b[39;00m \u001b[38;5;28mrange\u001b[39m(\u001b[38;5;28mself\u001b[39m\u001b[38;5;241m.\u001b[39mepoch):\n\u001b[1;32m---> 16\u001b[0m     gradient\u001b[38;5;241m=\u001b[39m\u001b[43mx\u001b[49m\u001b[38;5;241;43m.\u001b[39;49m\u001b[43mT\u001b[49m\u001b[38;5;241;43m.\u001b[39;49m\u001b[43mdot\u001b[49m\u001b[43m(\u001b[49m\u001b[43mx\u001b[49m\u001b[43m)\u001b[49m\u001b[38;5;241;43m.\u001b[39;49m\u001b[43mdot\u001b[49m(thetha)\u001b[38;5;241m-\u001b[39mnp\u001b[38;5;241m.\u001b[39mdot(x\u001b[38;5;241m.\u001b[39mT,y_train)\u001b[38;5;241m+\u001b[39m\u001b[38;5;28mself\u001b[39m\u001b[38;5;241m.\u001b[39malpha\u001b[38;5;241m*\u001b[39mthetha\n\u001b[0;32m     17\u001b[0m     thetha\u001b[38;5;241m=\u001b[39mtheta\u001b[38;5;241m-\u001b[39m\u001b[38;5;28mself\u001b[39m\u001b[38;5;241m.\u001b[39mlearning_rate\u001b[38;5;241m*\u001b[39mgradient\n\u001b[0;32m     18\u001b[0m \u001b[38;5;28mself\u001b[39m\u001b[38;5;241m.\u001b[39mcoef_\u001b[38;5;241m=\u001b[39mthetha[\u001b[38;5;241m1\u001b[39m:]\n",
      "\u001b[1;31mAttributeError\u001b[0m: 'numpy.float64' object has no attribute 'dot'"
     ]
    }
   ],
   "source": [
    "#lets fit pur model\n",
    "\n",
    "grdnt=gradientridge(epoch=500,learning_rate=0.005,alpha=0.01)\n",
    "grdnt.fit(x_train,y_train)\n",
    "grdnt.coef_"
   ]
  },
  {
   "cell_type": "code",
   "execution_count": 41,
   "id": "665e87ca",
   "metadata": {},
   "outputs": [
    {
     "data": {
      "text/plain": [
       "array([0.])"
      ]
     },
     "execution_count": 41,
     "metadata": {},
     "output_type": "execute_result"
    }
   ],
   "source": [
    "np.zeros(1)"
   ]
  },
  {
   "cell_type": "code",
   "execution_count": 51,
   "id": "b41d5be3",
   "metadata": {},
   "outputs": [],
   "source": [
    "x=np.c_[np.ones(x_train.shape[0]),x_train]\n",
    "coef_=np.ones(x_train.shape[1])\n",
    "intercept_=0\n",
    "theta=np.insert(coef_,0,intercept_)"
   ]
  },
  {
   "cell_type": "code",
   "execution_count": 52,
   "id": "50bbf8f6",
   "metadata": {},
   "outputs": [
    {
     "data": {
      "text/plain": [
       "array([0., 1., 1., 1., 1., 1., 1., 1., 1., 1., 1.])"
      ]
     },
     "execution_count": 52,
     "metadata": {},
     "output_type": "execute_result"
    }
   ],
   "source": [
    "theta"
   ]
  },
  {
   "cell_type": "code",
   "execution_count": 53,
   "id": "0191059f",
   "metadata": {},
   "outputs": [
    {
     "data": {
      "text/plain": [
       "(353, 11)"
      ]
     },
     "execution_count": 53,
     "metadata": {},
     "output_type": "execute_result"
    }
   ],
   "source": [
    "x.shape"
   ]
  },
  {
   "cell_type": "code",
   "execution_count": 55,
   "id": "e8a3a7cc",
   "metadata": {},
   "outputs": [
    {
     "data": {
      "text/plain": [
       "array([1., 1., 1., 1., 1., 1., 1., 1., 1., 1.])"
      ]
     },
     "execution_count": 55,
     "metadata": {},
     "output_type": "execute_result"
    }
   ],
   "source": []
  },
  {
   "cell_type": "code",
   "execution_count": 64,
   "id": "a5a235ba",
   "metadata": {},
   "outputs": [],
   "source": [
    "selfcoef_=np.ones(x_train.shape[1])  #coeficients\n",
    "selfintercept=0                      #intercept\n",
    "thetha=np.insert(selfcoef_,0,selfintercept)"
   ]
  },
  {
   "cell_type": "code",
   "execution_count": 66,
   "id": "a9591b8a",
   "metadata": {},
   "outputs": [
    {
     "data": {
      "text/plain": [
       "(11,)"
      ]
     },
     "execution_count": 66,
     "metadata": {},
     "output_type": "execute_result"
    }
   ],
   "source": [
    "theta"
   ]
  },
  {
   "cell_type": "code",
   "execution_count": null,
   "id": "69626090",
   "metadata": {},
   "outputs": [],
   "source": []
  }
 ],
 "metadata": {
  "kernelspec": {
   "display_name": "Python 3 (ipykernel)",
   "language": "python",
   "name": "python3"
  },
  "language_info": {
   "codemirror_mode": {
    "name": "ipython",
    "version": 3
   },
   "file_extension": ".py",
   "mimetype": "text/x-python",
   "name": "python",
   "nbconvert_exporter": "python",
   "pygments_lexer": "ipython3",
   "version": "3.9.18"
  }
 },
 "nbformat": 4,
 "nbformat_minor": 5
}
