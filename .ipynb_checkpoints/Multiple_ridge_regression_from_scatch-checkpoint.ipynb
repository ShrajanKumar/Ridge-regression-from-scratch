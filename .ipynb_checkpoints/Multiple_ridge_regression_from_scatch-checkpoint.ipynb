{
 "cells": [
  {
   "cell_type": "markdown",
   "id": "82cf7a21",
   "metadata": {},
   "source": [
    "#### Lets build ridge regression for multiple variable from scratch"
   ]
  },
  {
   "cell_type": "code",
   "execution_count": 41,
   "id": "246d2389",
   "metadata": {},
   "outputs": [],
   "source": [
    "class multi_ridge:\n",
    "    def __init__(self,alpha=0.1):\n",
    "        self.alpha=alpha\n",
    "        self.coef_=None\n",
    "        self.intercept_=None\n",
    "    \n",
    "    def fit(self,x_train,y_train):  #calculates paramters\n",
    "        x=np.c_[np.ones(x_train.shape[0]),x_train] #creating x matrix which contains 1 in first column                                           \n",
    "        I=np.identity(x.shape[1]) #creating identity matrix\n",
    "        parameters=np.linalg.inv(x.T.dot(x)+self.alpha*I).dot(x.T).dot(y_train) #contains both intercept and slope\n",
    "        \n",
    "        #seperating intercept and coefficients from parameter arrray\n",
    "        self.intercept_=parameters[0] #intercepts\n",
    "        self.coef_=parameters[1:]  #regressor coefficients\n",
    "        \n",
    "       \n",
    "    def predict(self,x_test):\n",
    "        return self.intercept_+np.dot(self.coef_,x_test)   #performs prediction using calculated coefficients"
   ]
  },
  {
   "cell_type": "markdown",
   "id": "774b767c",
   "metadata": {},
   "source": [
    "#### lets try our model"
   ]
  },
  {
   "cell_type": "code",
   "execution_count": 16,
   "id": "a2061758",
   "metadata": {},
   "outputs": [],
   "source": [
    "#loading data\n",
    "from sklearn.datasets import load_diabetes\n",
    "x,y = load_diabetes(return_X_y=True)"
   ]
  },
  {
   "cell_type": "code",
   "execution_count": 20,
   "id": "c56c6ce3",
   "metadata": {},
   "outputs": [],
   "source": [
    "#import required libraries and split loaded data to train and test\n",
    "\n",
    "from sklearn.model_selection import train_test_split\n",
    "from sklearn.metrics import r2_score\n",
    "\n",
    "x_train,x_test,y_train,y_test=train_test_split(x,y,test_size=0.2,random_state=42)\n"
   ]
  },
  {
   "cell_type": "code",
   "execution_count": 38,
   "id": "a4a060ef",
   "metadata": {},
   "outputs": [],
   "source": [
    "#fitting our model\n",
    "r_scratch=multi_ridge(alpha=0.5)\n",
    "r_scratch.fit(x_train,y_train)"
   ]
  },
  {
   "cell_type": "code",
   "execution_count": 44,
   "id": "c185f278",
   "metadata": {},
   "outputs": [
    {
     "name": "stdout",
     "output_type": "stream",
     "text": [
      "intercept is :  151.68510064383366\n",
      "\n",
      "coeffiecients :  [  45.71504241 -123.53348149  376.22433111  248.43377181  -26.94616364\n",
      "  -59.78050054 -172.57992752  131.88219844  289.19446777  112.22931699]\n"
     ]
    }
   ],
   "source": [
    "#looking at estimates\n",
    "\n",
    "print('intercept is : ' ,r_scratch.intercept_)\n",
    "print()\n",
    "print('coeffiecients : ',r_scratch.coef_)"
   ]
  },
  {
   "cell_type": "code",
   "execution_count": 43,
   "id": "94fdcfb9",
   "metadata": {},
   "outputs": [
    {
     "name": "stdout",
     "output_type": "stream",
     "text": [
      "Intercept :  151.90050930454737\n",
      "\n",
      "Coefficients :  [  45.64290971 -123.52312064  376.15147384  248.41071859  -26.89911282\n",
      "  -59.71688698 -172.5492163   131.8958765   289.16015262  112.14621816]\n"
     ]
    }
   ],
   "source": [
    "#lets try sklearn ridge regression\n",
    "\n",
    "from sklearn.linear_model import Ridge\n",
    "r_sklearn=Ridge(alpha=0.5)\n",
    "r_sklearn.fit(x_train,y_train)\n",
    "print(\"Intercept : \",r_sklearn.intercept_)\n",
    "print()\n",
    "print('Coefficients : ',r_sklearn.coef_)"
   ]
  },
  {
   "cell_type": "code",
   "execution_count": null,
   "id": "586c4e33",
   "metadata": {},
   "outputs": [],
   "source": []
  },
  {
   "cell_type": "markdown",
   "id": "a8d4518e",
   "metadata": {},
   "source": [
    "Note :\n",
    "    \n",
    "    Estimate of Coefficients in both our scratch model and sklearn model are same but intercept has small difference it because in sklearn they set the first element of identity matirx I as 0\n",
    "    \n",
    "    thats I[0][0]=0"
   ]
  },
  {
   "cell_type": "code",
   "execution_count": null,
   "id": "954bdb89",
   "metadata": {},
   "outputs": [],
   "source": []
  },
  {
   "cell_type": "code",
   "execution_count": null,
   "id": "2bbf627c",
   "metadata": {},
   "outputs": [],
   "source": []
  }
 ],
 "metadata": {
  "kernelspec": {
   "display_name": "Python 3 (ipykernel)",
   "language": "python",
   "name": "python3"
  },
  "language_info": {
   "codemirror_mode": {
    "name": "ipython",
    "version": 3
   },
   "file_extension": ".py",
   "mimetype": "text/x-python",
   "name": "python",
   "nbconvert_exporter": "python",
   "pygments_lexer": "ipython3",
   "version": "3.9.18"
  }
 },
 "nbformat": 4,
 "nbformat_minor": 5
}
