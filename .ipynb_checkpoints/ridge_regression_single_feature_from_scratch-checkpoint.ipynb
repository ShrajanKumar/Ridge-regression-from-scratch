{
 "cells": [
  {
   "cell_type": "code",
   "execution_count": 4,
   "id": "9e7637ff",
   "metadata": {},
   "outputs": [],
   "source": [
    "#importing required libraries\n",
    "\n",
    "from sklearn.datasets import make_regression\n",
    "import pandas as pd\n",
    "import numpy as np\n",
    "import matplotlib.pyplot as plt"
   ]
  },
  {
   "cell_type": "code",
   "execution_count": 7,
   "id": "5b614679",
   "metadata": {},
   "outputs": [],
   "source": [
    "#lets create one temporatry data set\n",
    "x,y=make_regression(n_samples=100,n_features=1,n_informative=1,n_targets=1,noise=25,random_state=42)"
   ]
  },
  {
   "cell_type": "code",
   "execution_count": 12,
   "id": "a88fae81",
   "metadata": {},
   "outputs": [
    {
     "data": {
      "text/plain": [
       "<matplotlib.collections.PathCollection at 0x1ae0f57eeb0>"
      ]
     },
     "execution_count": 12,
     "metadata": {},
     "output_type": "execute_result"
    },
    {
     "data": {
      "image/png": "[encoded data removed]",
      "text/plain": [
       "<Figure size 500x400 with 1 Axes>"
      ]
     },
     "metadata": {},
     "output_type": "display_data"
    }
   ],
   "source": [
    "#lets plot our data\n",
    "plt.figure(figsize=(5,4))\n",
    "plt.scatter(x,y)"
   ]
  },
  {
   "cell_type": "markdown",
   "id": "9290797b",
   "metadata": {},
   "source": [
    "before building ridge regression from scratch let us try fitting ridge and simple linear using sklearn module"
   ]
  },
  {
   "cell_type": "code",
   "execution_count": 15,
   "id": "f954d441",
   "metadata": {},
   "outputs": [
    {
     "name": "stdout",
     "output_type": "stream",
     "text": [
      "coefficient [48.48127451]\n",
      "\n",
      "intercept 2.9127883013174314\n"
     ]
    }
   ],
   "source": [
    "#Lets buid olse regression using sklearn\n",
    "from sklearn.linear_model import LinearRegression\n",
    "lr=LinearRegression()\n",
    "lr.fit(x,y)\n",
    "print('coefficient',lr.coef_)\n",
    "print()\n",
    "print('intercept',lr.intercept_)"
   ]
  },
  {
   "cell_type": "code",
   "execution_count": 22,
   "id": "ecb7a20c",
   "metadata": {},
   "outputs": [
    {
     "name": "stdout",
     "output_type": "stream",
     "text": [
      "Coefficient :  [30.0686436]\n",
      "\n",
      "Intercept :  1.000700705374208\n"
     ]
    }
   ],
   "source": [
    "#lets build ridge regression using sklearn\n",
    "from sklearn.linear_model import Ridge\n",
    "rr=Ridge(alpha=50,solver='cholesky')\n",
    "rr.fit(x,y)\n",
    "print(\"Coefficient : \",rr.coef_)\n",
    "print()\n",
    "print('Intercept : ',rr.intercept_)\n"
   ]
  },
  {
   "cell_type": "code",
   "execution_count": null,
   "id": "00a053c1",
   "metadata": {},
   "outputs": [],
   "source": []
  },
  {
   "cell_type": "markdown",
   "id": "3f1efcff",
   "metadata": {},
   "source": [
    "If you observe coefficient and intercept of two regression model , in ridge coeff and intrcpt decreased drastically"
   ]
  },
  {
   "cell_type": "code",
   "execution_count": null,
   "id": "78325f37",
   "metadata": {},
   "outputs": [],
   "source": []
  },
  {
   "cell_type": "markdown",
   "id": "59dd9692",
   "metadata": {},
   "source": [
    "Increased alpha value to 100 coefficients decreased even more"
   ]
  },
  {
   "cell_type": "markdown",
   "id": "dbafa833",
   "metadata": {},
   "source": [
    "##### Ridge from scratch"
   ]
  },
  {
   "cell_type": "code",
   "execution_count": 48,
   "id": "4f0a0f1e",
   "metadata": {},
   "outputs": [],
   "source": [
    "class my_ridge:\n",
    "    def __init__(self,alpha=1):\n",
    "        self.alpha=alpha\n",
    "        self.m=None\n",
    "        self.b=None\n",
    "        \n",
    "    def fit (self, x_train,y_train):\n",
    "        num=0  #to calculate numerator of coefficient\n",
    "        den=0  #to cal denominator\n",
    "        for i in range(x_train.shape[0]):\n",
    "            num=num + (y_train[i] - np.mean(y_train)) * (x_train[i]-np.mean(x_train))\n",
    "            den=den + (x_train[i]-np.mean(x_train))**2\n",
    "        \n",
    "        self.m=num/(den+self.alpha)\n",
    "        self.b=y_train.mean() - (self.m*x_train.mean())\n",
    "        print(self.m,self.b)\n",
    "    \n",
    "    def predict(self,x_test):\n",
    "        return self.b+self.m*x_test\n",
    "        \n"
   ]
  },
  {
   "cell_type": "code",
   "execution_count": 62,
   "id": "a8ef1647",
   "metadata": {},
   "outputs": [
    {
     "name": "stdout",
     "output_type": "stream",
     "text": [
      "[30.0686436] [1.00070071]\n"
     ]
    }
   ],
   "source": [
    "#lets find ceoff and intercept using our own ridge model\n",
    "ridge_=my_ridge(alpha=50)\n",
    "ridge_.fit(x,y)"
   ]
  },
  {
   "cell_type": "markdown",
   "id": "6c0fafdf",
   "metadata": {},
   "source": [
    "Well both sklearn and from scracth ridge model has same estimates"
   ]
  },
  {
   "cell_type": "code",
   "execution_count": null,
   "id": "8fbf1419",
   "metadata": {},
   "outputs": [],
   "source": []
  }
 ],
 "metadata": {
  "kernelspec": {
   "display_name": "Python 3 (ipykernel)",
   "language": "python",
   "name": "python3"
  },
  "language_info": {
   "codemirror_mode": {
    "name": "ipython",
    "version": 3
   },
   "file_extension": ".py",
   "mimetype": "text/x-python",
   "name": "python",
   "nbconvert_exporter": "python",
   "pygments_lexer": "ipython3",
   "version": "3.9.18"
  }
 },
 "nbformat": 4,
 "nbformat_minor": 5
}
