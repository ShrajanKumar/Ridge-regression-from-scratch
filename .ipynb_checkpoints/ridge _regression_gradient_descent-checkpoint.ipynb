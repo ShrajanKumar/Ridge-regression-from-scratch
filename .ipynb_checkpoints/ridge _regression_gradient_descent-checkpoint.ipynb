{
 "cells": [
  {
   "cell_type": "code",
   "execution_count": 1,
   "id": "7da0baff",
   "metadata": {},
   "outputs": [],
   "source": [
    "#Lets build our own gradient ridge regressor\n",
    "\n",
    "#import require libraries\n",
    "\n",
    "import numpy as np"
   ]
  },
  {
   "cell_type": "code",
   "execution_count": 58,
   "id": "d71537ec",
   "metadata": {},
   "outputs": [],
   "source": [
    "class gradientridge:\n",
    "    def __init__(self,epoch=500,learning_rate=0.01,alpha=0.1):\n",
    "        self.epoch=epoch\n",
    "        self.learning_rate=learning_rate\n",
    "        self.alpha=alpha\n",
    "        self.intercept_=None\n",
    "        self.coef_=None\n",
    "    \n",
    "    def fit(self,x_train,y_train):\n",
    "        x=np.insert(x_train,0,1)\n",
    "        self.coef_=np.ones(x_train.shape[1])  #coeficients\n",
    "        self.intercept=0                      #intercept\n",
    "        thetha=np.insert(self.coef_,0,self.intercept_) #vector of paramters\n",
    "        \n",
    "        for i in range(self.epoch):\n",
    "            gradient=np.dot(x.T,x).dot(thetha)-np.dot(x.T,y_train)+self.alpha*thetha\n",
    "            thetha=theta-self.learning_rate*gradient\n",
    "        self.coef_=thetha[1:]\n",
    "        self.intercept_=thetha[0]\n",
    "    \n",
    "    def predict(self,x_test):\n",
    "        return self.intercept_+x_test.dot(self.coef_)\n",
    "        \n",
    "        \n",
    "        "
   ]
  },
  {
   "cell_type": "code",
   "execution_count": 60,
   "id": "6920dc5b",
   "metadata": {},
   "outputs": [],
   "source": [
    "class MeraRidgeGD:\n",
    "    \n",
    "    def __init__(self,epochs,learning_rate,alpha):\n",
    "        \n",
    "        self.learning_rate = learning_rate\n",
    "        self.epochs = epochs\n",
    "        self.alpha = alpha\n",
    "        self.coef_ = None\n",
    "        self.intercept_ = None\n",
    "        \n",
    "    def fit(self,X_train,y_train):\n",
    "        \n",
    "        self.coef_ = np.ones(X_train.shape[1])\n",
    "        self.intercept_ = 0\n",
    "        thetha = np.insert(self.coef_,0,self.intercept_)\n",
    "        \n",
    "        X_train = np.insert(X_train,0,1,axis=1)\n",
    "        \n",
    "        for i in range(self.epochs):\n",
    "            thetha_der = np.dot(X_train.T,X_train).dot(thetha) - np.dot(X_train.T,y_train) + self.alpha*thetha\n",
    "            thetha = thetha - self.learning_rate*thetha_der\n",
    "        \n",
    "        self.coef_ = thetha[1:]\n",
    "        self.intercept_ = thetha[0]\n",
    "    \n",
    "    def predict(self,X_test):\n",
    "        \n",
    "        return np.dot(X_test,self.coef_) + self.intercept_"
   ]
  },
  {
   "cell_type": "code",
   "execution_count": 33,
   "id": "3ef7ea14",
   "metadata": {},
   "outputs": [],
   "source": [
    "#lets try our model\n",
    "from sklearn.model_selection import train_test_split\n",
    "from sklearn.datasets import load_diabetes\n",
    "x,y=load_diabetes(return_X_y=True)"
   ]
  },
  {
   "cell_type": "code",
   "execution_count": 34,
   "id": "fd47a33d",
   "metadata": {},
   "outputs": [],
   "source": [
    "x_train,x_test,y_train,y_tets=train_test_split(x,y,test_size=0.2,random_state=42)"
   ]
  },
  {
   "cell_type": "code",
   "execution_count": 62,
   "id": "d5f33837",
   "metadata": {},
   "outputs": [
    {
     "data": {
      "text/plain": [
       "array([  43.49153784, -190.11478495,  493.33449546,  317.62754813,\n",
       "        -63.30683004, -111.78807342, -212.96625403,  144.60934799,\n",
       "        365.64771309,  119.72554111])"
      ]
     },
     "execution_count": 62,
     "metadata": {},
     "output_type": "execute_result"
    }
   ],
   "source": [
    "#lets fit pur model\n",
    "\n",
    "grdnt=MeraRidgeGD(epochs=500,learning_rate=0.005,alpha=0.01)\n",
    "grdnt.fit(x_train,y_train)\n",
    "grdnt.coef_"
   ]
  },
  {
   "cell_type": "code",
   "execution_count": 41,
   "id": "665e87ca",
   "metadata": {},
   "outputs": [
    {
     "data": {
      "text/plain": [
       "array([0.])"
      ]
     },
     "execution_count": 41,
     "metadata": {},
     "output_type": "execute_result"
    }
   ],
   "source": [
    "np.zeros(1)"
   ]
  },
  {
   "cell_type": "code",
   "execution_count": 51,
   "id": "b41d5be3",
   "metadata": {},
   "outputs": [],
   "source": [
    "x=np.c_[np.ones(x_train.shape[0]),x_train]\n",
    "coef_=np.ones(x_train.shape[1])\n",
    "intercept_=0\n",
    "theta=np.insert(coef_,0,intercept_)"
   ]
  },
  {
   "cell_type": "code",
   "execution_count": 52,
   "id": "50bbf8f6",
   "metadata": {},
   "outputs": [
    {
     "data": {
      "text/plain": [
       "array([0., 1., 1., 1., 1., 1., 1., 1., 1., 1., 1.])"
      ]
     },
     "execution_count": 52,
     "metadata": {},
     "output_type": "execute_result"
    }
   ],
   "source": [
    "theta"
   ]
  },
  {
   "cell_type": "code",
   "execution_count": 53,
   "id": "0191059f",
   "metadata": {},
   "outputs": [
    {
     "data": {
      "text/plain": [
       "(353, 11)"
      ]
     },
     "execution_count": 53,
     "metadata": {},
     "output_type": "execute_result"
    }
   ],
   "source": [
    "x.shape"
   ]
  },
  {
   "cell_type": "code",
   "execution_count": 55,
   "id": "e8a3a7cc",
   "metadata": {},
   "outputs": [
    {
     "data": {
      "text/plain": [
       "array([1., 1., 1., 1., 1., 1., 1., 1., 1., 1.])"
      ]
     },
     "execution_count": 55,
     "metadata": {},
     "output_type": "execute_result"
    }
   ],
   "source": []
  },
  {
   "cell_type": "code",
   "execution_count": 64,
   "id": "a5a235ba",
   "metadata": {},
   "outputs": [],
   "source": [
    "selfcoef_=np.ones(x_train.shape[1])  #coeficients\n",
    "selfintercept=0                      #intercept\n",
    "thetha=np.insert(selfcoef_,0,selfintercept)"
   ]
  },
  {
   "cell_type": "code",
   "execution_count": 66,
   "id": "a9591b8a",
   "metadata": {},
   "outputs": [
    {
     "data": {
      "text/plain": [
       "(11,)"
      ]
     },
     "execution_count": 66,
     "metadata": {},
     "output_type": "execute_result"
    }
   ],
   "source": [
    "theta"
   ]
  },
  {
   "cell_type": "code",
   "execution_count": null,
   "id": "69626090",
   "metadata": {},
   "outputs": [],
   "source": []
  }
 ],
 "metadata": {
  "kernelspec": {
   "display_name": "Python 3 (ipykernel)",
   "language": "python",
   "name": "python3"
  },
  "language_info": {
   "codemirror_mode": {
    "name": "ipython",
    "version": 3
   },
   "file_extension": ".py",
   "mimetype": "text/x-python",
   "name": "python",
   "nbconvert_exporter": "python",
   "pygments_lexer": "ipython3",
   "version": "3.9.18"
  }
 },
 "nbformat": 4,
 "nbformat_minor": 5
}
